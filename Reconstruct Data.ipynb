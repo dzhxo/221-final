{
 "cells": [
  {
   "cell_type": "code",
   "execution_count": 26,
   "metadata": {},
   "outputs": [],
   "source": [
    "import pandas as pd\n",
    "import os\n",
    "import numpy as np\n",
    "from matplotlib import pyplot as plt"
   ]
  },
  {
   "cell_type": "code",
   "execution_count": 57,
   "metadata": {},
   "outputs": [],
   "source": [
    "def plotFace(row, fname, action, minMaxX, minMaxY):\n",
    "    plt.clf()\n",
    "    plt.scatter(row['X_feature_1':'X_feature_49'], row['Y_feature_1':'Y_feature_49'])\n",
    "    name = fname+'_'+action\n",
    "    plt.xlim(xmin=minMaxX[0],xmax=minMaxX[1])\n",
    "    plt.ylim(ymin=minMaxY[0],ymax=minMaxY[1])\n",
    "    plt.gca().invert_yaxis()\n",
    "    plt.savefig(name+'.jpg')"
   ]
  },
  {
   "cell_type": "code",
   "execution_count": 58,
   "metadata": {},
   "outputs": [],
   "source": [
    "def conv_ms_s(ms):\n",
    "    return ms/1000"
   ]
  },
  {
   "cell_type": "code",
   "execution_count": 64,
   "metadata": {},
   "outputs": [
    {
     "name": "stdout",
     "output_type": "stream",
     "text": [
      "S1_\n",
      "S1_Forest_20160614_040406\n",
      "S1_Kites_20160614_044038\n",
      "S1_Neutral_20160614_041414\n",
      "S1_Rotch_20160614_042304\n",
      "S1_Shibuja_20160614_043151\n",
      "S1_Silverman_20160614_040302\n",
      "S2_\n",
      "S2_Forest_20160614_060606\n",
      "S2_Kites_20160614_055640\n",
      "S2_Neutral_20160614_064042\n",
      "S2_Rotch_20160614_062334\n",
      "S2_Shibuja_20160614_063212\n",
      "S2_Silverman_20160614_055040\n",
      "S2_Sunset_20160614_061501\n",
      "S3_\n",
      "S3_Forest_20160615_022748\n",
      "S3_Kites_20160615_025333\n",
      "S3_Neutral_20160615_023618\n",
      "S3_Rotch_20160615_021903\n",
      "S3_Shibuja_20160615_024449\n",
      "S3_Silverman_20160615_020409\n",
      "S3_Sunset_20160615_020930\n",
      "S4_\n",
      "S4_Forest_20160615_041137\n",
      "S4_Kites_20160615_040240\n",
      "S4_Neutral_20160615_035346\n",
      "S4_Rotch_20160615_042852\n",
      "S4_Shibuja_20160615_034440\n",
      "S4_Silverman_20160615_033452\n",
      "S4_Sunset_20160615_042010\n",
      "S5_\n",
      "S5_Forest_20160616_111157\n",
      "S5_Kites_20160616_104256\n",
      "S5_Neutral_20160616_112151\n",
      "S5_Rotch_20160616_103307\n",
      "S5_Shibuja_20160616_110226\n",
      "S5_Silverman_20160616_102541\n",
      "S5_Sunset_20160616_105302\n",
      "S6_\n",
      "S6_Forest_20160616_022616\n",
      "S6_Kites_20160616_021656\n",
      "S6_Neutral_20160616_023509\n",
      "S6_Rotch_20160616_024517\n",
      "S6_Shibuja_20160616_030349\n",
      "S6_Silverman_20160616_020907\n",
      "S6_Sunset_20160616_025438\n",
      "S8_\n",
      "S8_Forest_20160616_053055\n",
      "S8_Kites_20160616_054848\n",
      "S8_Neutral_20160616_055721\n",
      "S8_Rotch_20160616_053946\n",
      "S8_Shibuja_20160616_051225\n",
      "S8_Silverman_20160616_050500\n",
      "S8_Sunset_20160616_052159\n",
      "S9_\n",
      "S9_Forest_20160616_075042\n",
      "S9_Kites_20160616_074058\n",
      "S9_Neutral_20160616_073124\n",
      "S9_Rotch_20160616_070027\n",
      "S9_Shibuja_20160616_072152\n",
      "S9_Silverman_20160616_064810\n",
      "S9_Silverman_20160616_065007\n",
      "S9_Sunset_20160616_071125\n",
      "S11_\n",
      "S11_Forest_20160816_061604\n",
      "S11_Kites_20160816_063441\n",
      "S11_Neutral_20160816_065225\n",
      "S11_Rotch_20160816_062539\n",
      "S11_Shibuja_20160816_064344\n",
      "S11_Silverman_20160816_061057\n",
      "S12_\n",
      "S12_Forest_20160816_074641\n",
      "S12_Kites_20160816_082448\n",
      "S12_Neutral_20160816_075656\n",
      "S12_Rotch_20160816_081548\n",
      "S12_Shibuja_20160816_080639\n",
      "S12_Silverman_20160816_074140\n",
      "S13_\n",
      "S13_Forest_20160816_083934\n",
      "S13_Kites_20160816_084947\n",
      "S13_Neutral_20160816_085924\n",
      "S13_Rotch_20160816_090828\n",
      "S13_Shibuja_20160816_091723\n",
      "S13_Silverman_20160816_083850\n"
     ]
    },
    {
     "data": {
      "image/png": "[encoded data removed]",
      "text/plain": [
       "<matplotlib.figure.Figure at 0x113f2ef98>"
      ]
     },
     "metadata": {},
     "output_type": "display_data"
    }
   ],
   "source": [
    "subjects = ['S1_', 'S2_', 'S3_', 'S4_', 'S5_', 'S6_', 'S8_', 'S9_', 'S11_', 'S12_', 'S13_']\n",
    "start_times = [30, 90, 270, 450, 480]\n",
    "test_names = ['sceneIntro', 'stressTest', 'break', 'neckerTest', 'survey']\n",
    "for subject in subjects:\n",
    "    tests_folder = [name for name in os.listdir(\".\") if (os.path.isdir(name) and subject in name)]\n",
    "    print(subject)\n",
    "    for test in tests_folder:\n",
    "        fname_prefix = subject+test.split('_')[1]\n",
    "        print(test)\n",
    "        intra_file = [file for file in os.listdir(\"./\"+test) if \"INTRA\" in file]\n",
    "        if intra_file != []:\n",
    "            minX= file.loc[:,'X_feature_1':'X_feature_49'].min().min()\n",
    "            maxX= file.loc[:,'X_feature_1':'X_feature_49'].max().max()\n",
    "            minY= file.loc[:,'Y_feature_1':'Y_feature_49'].min().min()\n",
    "            maxY= file.loc[:,'Y_feature_1':'Y_feature_49'].max().max()\n",
    "            file = pd.read_csv(\"./\"+test+\"/\"+intra_file[0])\n",
    "            initTime = file.loc[0]['timestamp']\n",
    "            plotFace(file.loc[0], fname_prefix, 'neutralIntro', (minX,maxX), (minY,maxY))\n",
    "            for time in start_times:\n",
    "                row_num = 0\n",
    "                while row_num < file.shape[0]-1 and conv_ms_s(file.loc[row_num]['timestamp']-initTime) < time:\n",
    "                    row_num += 1\n",
    "                plotFace(file.loc[row_num], fname_prefix, test_names[start_times.index(time)], (minX,maxX), (minY,maxY))\n",
    "                    "
   ]
  },
  {
   "cell_type": "code",
   "execution_count": null,
   "metadata": {},
   "outputs": [],
   "source": []
  }
 ],
 "metadata": {
  "kernelspec": {
   "display_name": "Python 2",
   "language": "python",
   "name": "python2"
  },
  "language_info": {
   "codemirror_mode": {
    "name": "ipython",
    "version": 3
   },
   "file_extension": ".py",
   "mimetype": "text/x-python",
   "name": "python",
   "nbconvert_exporter": "python",
   "pygments_lexer": "ipython3",
   "version": "3.6.4"
  }
 },
 "nbformat": 4,
 "nbformat_minor": 2
}
